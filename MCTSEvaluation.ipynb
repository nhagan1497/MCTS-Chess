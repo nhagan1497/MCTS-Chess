{
 "cells": [
  {
   "cell_type": "code",
   "execution_count": 1,
   "id": "8aa192a6-076a-4032-9b82-dec644503393",
   "metadata": {},
   "outputs": [],
   "source": [
    "import chess\n",
    "\n",
    "import pandas as pd\n",
    "import numpy as np\n",
    "import random \n",
    "import math\n",
    "import random\n",
    "\n",
    "import torch\n",
    "\n",
    "import sqlite3"
   ]
  },
  {
   "cell_type": "markdown",
   "id": "52981a0f-b6a4-464f-a58f-c889affd16bb",
   "metadata": {},
   "source": [
    "Goal of the project:\n",
    "\n",
    "Write a self learning chess AI power by a deep learning NN.\n",
    "\n",
    "\n",
    "Basic Components:\n",
    "\n",
    "The project has two main components. The first is the AI logic and model evaluation which happens in this notebook. The other part is the reinforcement learning on the neural network that happens in the other notebook. The NN is intended to be a heuristic for the value function of a given chess position. All value in chess comes from the end state reached - win, loss, or draw. A win is represented by a value of 1, a loss -1, and a draw is a 0. When one of these terminal positions is reached, the value is propagated up the tree of moves to inform the positions that led into it. The neural network attempts to capture this relationship and can be interpreted as the chance a position has of reaching a win/loss/draw from the current position. The MCTS helps bridge an important gap here by allowing values to propagate back up the decision tree of play."
   ]
  },
  {
   "cell_type": "code",
   "execution_count": 4,
   "id": "03e53179-d16d-495d-b81a-f95cadd62f43",
   "metadata": {},
   "outputs": [],
   "source": [
    "model_num = 5\n",
    "\n",
    "num_games = 2\n",
    "num_moves = 400\n",
    "simulation_length = 500"
   ]
  },
  {
   "cell_type": "code",
   "execution_count": 6,
   "id": "e9a78e0e-faba-46ed-8790-781fe0d3c761",
   "metadata": {},
   "outputs": [],
   "source": [
    "# From other notebook, make sure these match\n",
    "import torch\n",
    "import torch.nn as nn\n",
    "import torch.nn.functional as F\n",
    "\n",
    "class ChessNet(nn.Module):\n",
    "    def __init__(self):\n",
    "        super(ChessNet, self).__init__()\n",
    "        # Define convolutional layers\n",
    "        self.conv1 = nn.Conv2d(12, 64, kernel_size=3, padding=1)\n",
    "        self.conv2 = nn.Conv2d(64, 64, kernel_size=3, padding=1)\n",
    "        self.conv3 = nn.Conv2d(64, 128, kernel_size=3, padding=1)\n",
    "        self.conv4 = nn.Conv2d(128, 128, kernel_size=3, padding=1)\n",
    "\n",
    "        # Define fully connected layers\n",
    "        self.fc1 = nn.Linear(128 * 8 * 8, 256)\n",
    "        self.fc2 = nn.Linear(256, 1)\n",
    "        self.fc3 = nn.Linear(256, 1)\n",
    "\n",
    "    def forward(self, x):\n",
    "        # Convolutional layers with ReLU activation\n",
    "        x = F.relu(self.conv1(x))\n",
    "        x = F.relu(self.conv2(x))\n",
    "        x = F.relu(self.conv3(x))\n",
    "        x = F.relu(self.conv4(x))\n",
    "        \n",
    "        # Flatten the output for the fully connected layers\n",
    "        x = x.view(-1, 128 * 8 * 8)\n",
    "        \n",
    "        # Fully connected layers with ReLU activation\n",
    "        x = F.relu(self.fc1(x))\n",
    "        likelihood = torch.sigmoid(self.fc2(x))\n",
    "        quality = torch.tanh(self.fc3(x))\n",
    "        return quality, likelihood"
   ]
  },
  {
   "cell_type": "markdown",
   "id": "7d66650d-8f47-4e05-b9f5-e8a1ba847d31",
   "metadata": {},
   "source": [
    "Network Architecture:\n",
    "\n",
    "Several layers of convolutional neural networks are used since the relationship between pieces at any spot in the board is typically not dependent on the exact position of the board. A different channel is used for each piece type to allow the network to learn the relationships. Ie, a pawn always captures a piece to the diagonal in front of it, regardless of where on the board it is. A black pawn captures down and a white pawn captures up, so different channels are provided for each color. The output of the network has two heads - one for the value function and another that denotes the likelihood of the position occurring. This helps inform the MCTS on what direction to evaluate play in. The likelihood output is trained on positions that have come up in game (output of 1) and randomly generated (but still possible) positions with a likelihood of 0."
   ]
  },
  {
   "cell_type": "code",
   "execution_count": 7,
   "id": "c53017ed-00b4-4aa7-ab93-d6c790110433",
   "metadata": {},
   "outputs": [
    {
     "data": {
      "text/plain": [
       "ChessNet(\n",
       "  (conv1): Conv2d(12, 64, kernel_size=(3, 3), stride=(1, 1), padding=(1, 1))\n",
       "  (conv2): Conv2d(64, 64, kernel_size=(3, 3), stride=(1, 1), padding=(1, 1))\n",
       "  (conv3): Conv2d(64, 128, kernel_size=(3, 3), stride=(1, 1), padding=(1, 1))\n",
       "  (conv4): Conv2d(128, 128, kernel_size=(3, 3), stride=(1, 1), padding=(1, 1))\n",
       "  (fc1): Linear(in_features=8192, out_features=256, bias=True)\n",
       "  (fc2): Linear(in_features=256, out_features=1, bias=True)\n",
       "  (fc3): Linear(in_features=256, out_features=1, bias=True)\n",
       ")"
      ]
     },
     "execution_count": 7,
     "metadata": {},
     "output_type": "execute_result"
    }
   ],
   "source": [
    "path = f'data/Chess/model_{model_num}.pth'\n",
    "model = ChessNet()\n",
    "model.load_state_dict(torch.load(path))\n",
    "model.eval()"
   ]
  },
  {
   "cell_type": "code",
   "execution_count": 5,
   "id": "6d6f52e5-6e64-4a0b-a3e7-7ff56768f061",
   "metadata": {},
   "outputs": [],
   "source": [
    "class Heuristic:\n",
    "    symbol_to_channel = {\n",
    "        'r': 0,\n",
    "        'n': 1,\n",
    "        'b': 2,\n",
    "        'k': 3,\n",
    "        'q': 4,\n",
    "        'p': 5,\n",
    "        'R': 6,\n",
    "        'N': 7,\n",
    "        'B': 8,\n",
    "        'K': 9,\n",
    "        'Q': 10,\n",
    "        'P': 11\n",
    "    }\n",
    "    @staticmethod\n",
    "    def fen_to_tensor(fen):\n",
    "        array = np.zeros((12, 64))\n",
    "        board = chess.Board(fen=fen)\n",
    "        piece_map = board.piece_map()\n",
    "        for square_num in piece_map:\n",
    "            piece_type = str(piece_map[square_num])\n",
    "            channel = Heuristic.symbol_to_channel[piece_type]\n",
    "            array[channel][square_num] = 1\n",
    "        array = array.reshape(12,8,8)\n",
    "        if board.turn == chess.BLACK:\n",
    "            array = np.concatenate((array[6:], array[:6]), axis=0)\n",
    "            array = np.array([np.flipud(sub_array) for sub_array in array])\n",
    "        return torch.tensor(array, dtype=torch.float32)\n",
    "        \n",
    "    def __init__(self, model):\n",
    "        self.model = model\n",
    "\n",
    "    def get_heuristic(self, fen):\n",
    "        input_tensor = Heuristic.fen_to_tensor(fen)\n",
    "        output = model(input_tensor)\n",
    "        score = output[0] * output[1]\n",
    "        return score.item()\n",
    "        \n",
    "class Node:\n",
    "    def __init__(self, fen, heuristic, constant=1.2):\n",
    "        self.fen = fen\n",
    "        self.heuristic = heuristic\n",
    "        self.constant = constant\n",
    "        self.visits = 1\n",
    "        self.value = heuristic.get_heuristic(fen)\n",
    "        self.children = []\n",
    "        self.terminal = False\n",
    "\n",
    "    def get_ucb(self, parent_visits):\n",
    "        # This is a value meant for the parent so you multiply by -1, value should be locked between -1 and 1\n",
    "        return (self.value / self.visits * -1) + math.sqrt(math.log(parent_visits) / self.visits) * self.constant\n",
    "\n",
    "    def get_best_child(self):\n",
    "        max_weight = np.NINF\n",
    "        best_child = None\n",
    "        for child in self.children:\n",
    "            weight = -1 * child.simulate(0)\n",
    "            if weight > max_weight:\n",
    "                max_weight = weight\n",
    "                best_child = child\n",
    "        return best_child\n",
    "\n",
    "    def get_random_child(self):\n",
    "        if len(self.children) == 1:\n",
    "            return self.children[0]\n",
    "        weights = []\n",
    "        for child in self.children:\n",
    "            weights.append(-1 * child.simulate(0))\n",
    "        min_weight = min(weights)\n",
    "        weights = [abs(min_weight) + weight for weight in weights]\n",
    "\n",
    "        # Children are all draws or the exact same number\n",
    "        if not any(weights):\n",
    "            return random.choices(self.children)[0]\n",
    "            \n",
    "        child = random.choices(self.children, weights=weights)[0]\n",
    "        return child\n",
    "        \n",
    "    def simulate(self, max_depth):\n",
    "        # 1. Populate children and return max reward\n",
    "        # 2. Randomly select child based on eploitation vs exploration and call simulate on it\n",
    "        # 3. Decrement max_depth in case of circular movements\n",
    "        # Increment visited and value every time\n",
    "        \n",
    "        if max_depth == 0:\n",
    "            return self.value / self.visits\n",
    "        else:\n",
    "            max_depth -= 1\n",
    "            \n",
    "        if not self.children:\n",
    "            board = chess.Board(self.fen)\n",
    "            if board.outcome():\n",
    "                if board.is_checkmate():\n",
    "                    self.terminal = True\n",
    "                    self.visits += 1\n",
    "                    self.value = self.visits * -1\n",
    "                    return -1\n",
    "                else:\n",
    "                    self.terminal = True\n",
    "                    self.visits += 1\n",
    "                    self.value = 0\n",
    "                    # self.value += 0\n",
    "                    return 0\n",
    "            else:\n",
    "                max_value = np.NINF\n",
    "                for move in board.legal_moves:\n",
    "                    board.push(move)\n",
    "                    self.children.append(Node(board.fen(), self.heuristic))\n",
    "                    board.pop()\n",
    "                for child in self.children:\n",
    "                    value = child.simulate(0) * -1\n",
    "                    if value > max_value:\n",
    "                        max_value = value\n",
    "                self.value += max_value\n",
    "                self.visits += 1\n",
    "                return max_value\n",
    "                    \n",
    "\n",
    "        max_child = None\n",
    "        max_ucb = np.NINF\n",
    "        \n",
    "        for child in self.children:\n",
    "            ucb = child.get_ucb(self.visits)\n",
    "            if ucb > max_ucb:\n",
    "                max_ucb = ucb\n",
    "                max_child = child\n",
    "\n",
    "        child_value = max_child.simulate(max_depth) * -1\n",
    "        self.value += child_value\n",
    "        self.visits += 1\n",
    "        return child_value"
   ]
  },
  {
   "cell_type": "markdown",
   "id": "36e5fd52-295d-4af2-a5f3-8406da65bd3a",
   "metadata": {},
   "source": [
    "The evaluation loop simulates a number of chess games against itself and then saves the output to a database file. The second notebook reads in the database and uses the scores to refine the NN's accuracy. Self play then continues."
   ]
  },
  {
   "cell_type": "code",
   "execution_count": 7,
   "id": "013c8886-aa35-4c05-a202-0a8c8f2c6a94",
   "metadata": {
    "scrolled": true
   },
   "outputs": [
    {
     "name": "stdout",
     "output_type": "stream",
     "text": [
      "Starting game number 0\n",
      "Starting game number 1\n"
     ]
    }
   ],
   "source": [
    "starting_board = chess.Board()\n",
    "heuristic = Heuristic(model)\n",
    "\n",
    "root_node = Node(starting_board.fen(), heuristic)\n",
    "max_depth = np.inf\n",
    "\n",
    "# First loop to play multiple games\n",
    "for i in range(num_games):\n",
    "    print(f\"Starting game number {i}\") \n",
    "    current_node = root_node\n",
    "    # Outer loop to make moves and simulate a game\n",
    "    for i in range(num_moves):        \n",
    "        # Inner loop to perform monte carlo simulations\n",
    "        for j in range(simulation_length):\n",
    "            current_node.simulate(max_depth=max_depth)\n",
    "        if current_node.terminal:\n",
    "            continue\n",
    "        #current_node = current_node.get_random_child()\n",
    "        current_node = current_node.get_best_child()\n",
    "        \n",
    "        "
   ]
  },
  {
   "cell_type": "code",
   "execution_count": 8,
   "id": "c775f1c1-a462-49bd-9f2e-8391a8e414aa",
   "metadata": {},
   "outputs": [],
   "source": [
    "# Save results in a database for training"
   ]
  },
  {
   "cell_type": "code",
   "execution_count": 9,
   "id": "38a3a425-e0f8-46f9-af90-4609d892c48c",
   "metadata": {},
   "outputs": [
    {
     "data": {
      "text/plain": [
       "58829"
      ]
     },
     "execution_count": 9,
     "metadata": {},
     "output_type": "execute_result"
    }
   ],
   "source": [
    "conn = sqlite3.connect(f'data/Chess/training_data_{model_num}.db')\n",
    "cursor = conn.cursor()\n",
    "\n",
    "cursor.execute(\"CREATE TABLE IF NOT EXISTS training (fen TEXT, score REAL, likelihood REAL)\")\n",
    "conn.commit()\n",
    "\n",
    "rows = []\n",
    "\n",
    "def append_children(rows, node, parent_score):\n",
    "    this_node_value = node.simulate(0)\n",
    "    for child in node.children:\n",
    "        append_children(rows, child, this_node_value)\n",
    "\n",
    "    if node.visits == 1:\n",
    "        return\n",
    "    # If parent was winning, made a move, and now I am winning, likelihood shouldn't be the full 1.0\n",
    "    # If parent was losing, made a move, and now I am losing then the parent made a good move which is okay\n",
    "    # If parent had a 1 (guaranteed checkmate) and now I have a 1 (guaranteed checkmate) likelihood should be zero\n",
    "    # If both scores are close to zero then likelihood should remain close to 1\n",
    "    if parent_score > 0 and this_node_value > 0:\n",
    "        likelihood = 1 - (parent_score + this_node_value) / 2\n",
    "    else:\n",
    "        likelihood = 1\n",
    "    rows.append((node.fen, round(node.simulate(0), 4), round(likelihood, 4)))\n",
    "    return\n",
    "append_children(rows, root_node, 0)\n",
    "df = pd.DataFrame(data=rows, columns=['fen', 'score', 'likelihood'])\n",
    "df.to_sql('training', conn, if_exists='replace', index=False)"
   ]
  },
  {
   "attachments": {},
   "cell_type": "markdown",
   "id": "b4c48a07-ec0d-4eeb-af2b-8b5a1542f75f",
   "metadata": {},
   "source": [
    "Results:\n",
    "\n",
    "I was able to tell a slight improvement of the model over time. I spent around 6 hours training it. I wouldn't say that the NN is particularly good at play, but this brute force propagation is able to provide insights into positions typically missed by people. The NN-based heuristic, with enough game play and fine tuning, is able to simulate the positional/creative aspect of chess and the two aspects combined make a better chess player than you'd expect. I analyzed a number of the positions and ratings reached by hand using a database browser and FEN visualization tool to make sure the network was outputting numbers that made some sort of sense most of the time. Here are some samples:"
   ]
  },
  {
   "attachments": {
    "a66fd377-70c5-4952-83d5-60bc5e37e0e2.png": {
     "image/png": "[encoded data removed]"
    }
   },
   "cell_type": "markdown",
   "id": "5cc4c94b-0e8f-4d7a-b738-a4a4ce3902f6",
   "metadata": {},
   "source": [
    "![image.png](attachment:a66fd377-70c5-4952-83d5-60bc5e37e0e2.png)"
   ]
  },
  {
   "cell_type": "markdown",
   "id": "c5c7896b-b61a-4614-855d-58468cfcf635",
   "metadata": {},
   "source": [
    "Slight edge to white. That's just chess, it's an accurate assessment. The network probably learned about white's edge from the initial dump of games since it's a statistically significant edge."
   ]
  },
  {
   "attachments": {
    "de0c3140-3f66-40bf-bafd-178732e99a2b.png": {
     "image/png": "[encoded data removed]"
    }
   },
   "cell_type": "markdown",
   "id": "bd0a741a-2cad-4f6c-8ccf-fa0b08a9dcda",
   "metadata": {},
   "source": [
    "![image.png](attachment:de0c3140-3f66-40bf-bafd-178732e99a2b.png)"
   ]
  },
  {
   "cell_type": "markdown",
   "id": "0b11226e-3751-426d-8173-0de6c3ee251e",
   "metadata": {},
   "source": [
    "Slight edge black. I would much prefer to be white in this position, but the pair of passed pawns and active king is typically dangerous."
   ]
  },
  {
   "attachments": {
    "0153e176-aa20-47eb-9fdd-6e3f403b78ee.png": {
     "image/png": "[encoded data removed]"
    }
   },
   "cell_type": "markdown",
   "id": "1080cae4-2542-43b3-a609-e8e4478d92a2",
   "metadata": {},
   "source": [
    "![image.png](attachment:0153e176-aa20-47eb-9fdd-6e3f403b78ee.png)"
   ]
  },
  {
   "cell_type": "markdown",
   "id": "7551a8ff-5691-4b3d-84e0-50dcd5a482df",
   "metadata": {},
   "source": [
    "Significant edge black. This should be self explanatory, black is the only one with pieces left! These kinds of positions are good to see for sanity checks, something has gone very wrong if we're rating white as favorable here."
   ]
  },
  {
   "cell_type": "markdown",
   "id": "0787d14c-0c2b-4e15-87c6-0ffdfc05b9a0",
   "metadata": {},
   "source": [
    "Overall I was impressed with the game play seen. Reasonable middle and end games were reached which shows a surface level understanding of the game. Totally random moves look much different than the positions pictured above. "
   ]
  }
 ],
 "metadata": {
  "kernelspec": {
   "display_name": "Python 3 (ipykernel)",
   "language": "python",
   "name": "python3"
  },
  "language_info": {
   "codemirror_mode": {
    "name": "ipython",
    "version": 3
   },
   "file_extension": ".py",
   "mimetype": "text/x-python",
   "name": "python",
   "nbconvert_exporter": "python",
   "pygments_lexer": "ipython3",
   "version": "3.11.8"
  }
 },
 "nbformat": 4,
 "nbformat_minor": 5
}
